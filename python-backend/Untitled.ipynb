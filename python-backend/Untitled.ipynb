{
 "cells": [
  {
   "cell_type": "markdown",
   "id": "c230f53e",
   "metadata": {},
   "source": [
    "## GPTResearcher\n",
    "\n",
    "### Helpful links for documentation:\n",
    "* https://docs.gptr.dev/blog/building-gpt-researcher\n",
    "* https://github.com/assafelovic/gpt-researcher\n",
    "\n",
    "### Summary\n",
    "GPT Researcher is an autonomous agent designed for comprehensive online research on a variety of tasks.\n",
    "\n",
    "Agent workflow:\n",
    "![image.png](attachment:image.png)\n",
    "\n",
    "### Setting up\n",
    "GPT Researcher requires OPENAI api key and Tavily api key\n",
    "\n",
    "### Improvements and to do list\n",
    "1. Using other large language models instead of OpenAI to reduce cost, or integrate it within the AWS Bedrock ecosystem\n",
    "2. The default retriever is Tavily, but we can experiment with other search providers or custom build one ourselves for more tailored results\n",
    "3. Rebuild the model architecture to improve data extraction and reasoning ability"
   ]
  },
  {
   "cell_type": "code",
   "execution_count": null,
   "id": "26d812ba",
   "metadata": {},
   "outputs": [],
   "source": []
  }
 ],
 "metadata": {
  "kernelspec": {
   "display_name": "Python 3 (ipykernel)",
   "language": "python",
   "name": "python3"
  },
  "language_info": {
   "codemirror_mode": {
    "name": "ipython",
    "version": 3
   },
   "file_extension": ".py",
   "mimetype": "text/x-python",
   "name": "python",
   "nbconvert_exporter": "python",
   "pygments_lexer": "ipython3",
   "version": "3.11.7"
  }
 },
 "nbformat": 4,
 "nbformat_minor": 5
}
