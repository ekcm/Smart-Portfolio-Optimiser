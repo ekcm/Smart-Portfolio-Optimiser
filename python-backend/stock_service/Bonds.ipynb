{
 "cells": [
  {
   "cell_type": "code",
   "execution_count": 1,
   "id": "b530accc-476b-402f-b14d-1eec824373cf",
   "metadata": {},
   "outputs": [
    {
     "name": "stdout",
     "output_type": "stream",
     "text": [
      "Collecting yahoo_fin\n",
      "  Using cached yahoo_fin-0.8.9.1-py3-none-any.whl.metadata (699 bytes)\n",
      "Collecting requests-html (from yahoo_fin)\n",
      "  Using cached requests_html-0.10.0-py3-none-any.whl.metadata (15 kB)\n",
      "Requirement already satisfied: feedparser in /opt/anaconda3/lib/python3.12/site-packages (from yahoo_fin) (6.0.11)\n",
      "Requirement already satisfied: requests in /opt/anaconda3/lib/python3.12/site-packages (from yahoo_fin) (2.32.3)\n",
      "Requirement already satisfied: pandas in /opt/anaconda3/lib/python3.12/site-packages (from yahoo_fin) (2.2.3)\n",
      "Requirement already satisfied: sgmllib3k in /opt/anaconda3/lib/python3.12/site-packages (from feedparser->yahoo_fin) (1.0.0)\n",
      "Requirement already satisfied: numpy>=1.26.0 in /opt/anaconda3/lib/python3.12/site-packages (from pandas->yahoo_fin) (1.26.4)\n",
      "Requirement already satisfied: python-dateutil>=2.8.2 in /opt/anaconda3/lib/python3.12/site-packages (from pandas->yahoo_fin) (2.9.0.post0)\n",
      "Requirement already satisfied: pytz>=2020.1 in /opt/anaconda3/lib/python3.12/site-packages (from pandas->yahoo_fin) (2024.2)\n",
      "Requirement already satisfied: tzdata>=2022.7 in /opt/anaconda3/lib/python3.12/site-packages (from pandas->yahoo_fin) (2024.2)\n",
      "Requirement already satisfied: charset-normalizer<4,>=2 in /opt/anaconda3/lib/python3.12/site-packages (from requests->yahoo_fin) (3.4.0)\n",
      "Requirement already satisfied: idna<4,>=2.5 in /opt/anaconda3/lib/python3.12/site-packages (from requests->yahoo_fin) (3.10)\n",
      "Requirement already satisfied: urllib3<3,>=1.21.1 in /opt/anaconda3/lib/python3.12/site-packages (from requests->yahoo_fin) (2.2.3)\n",
      "Requirement already satisfied: certifi>=2017.4.17 in /opt/anaconda3/lib/python3.12/site-packages (from requests->yahoo_fin) (2024.8.30)\n",
      "Collecting pyquery (from requests-html->yahoo_fin)\n",
      "  Using cached pyquery-2.0.1-py3-none-any.whl.metadata (9.0 kB)\n",
      "Collecting fake-useragent (from requests-html->yahoo_fin)\n",
      "  Using cached fake_useragent-1.5.1-py3-none-any.whl.metadata (15 kB)\n",
      "Collecting parse (from requests-html->yahoo_fin)\n",
      "  Using cached parse-1.20.2-py2.py3-none-any.whl.metadata (22 kB)\n",
      "Collecting bs4 (from requests-html->yahoo_fin)\n",
      "  Using cached bs4-0.0.2-py2.py3-none-any.whl.metadata (411 bytes)\n",
      "Requirement already satisfied: w3lib in /opt/anaconda3/lib/python3.12/site-packages (from requests-html->yahoo_fin) (2.1.2)\n",
      "Collecting pyppeteer>=0.0.14 (from requests-html->yahoo_fin)\n",
      "  Using cached pyppeteer-2.0.0-py3-none-any.whl.metadata (7.1 kB)\n",
      "Requirement already satisfied: appdirs<2.0.0,>=1.4.3 in /opt/anaconda3/lib/python3.12/site-packages (from pyppeteer>=0.0.14->requests-html->yahoo_fin) (1.4.4)\n",
      "Requirement already satisfied: importlib-metadata>=1.4 in /opt/anaconda3/lib/python3.12/site-packages (from pyppeteer>=0.0.14->requests-html->yahoo_fin) (8.4.0)\n",
      "Collecting pyee<12.0.0,>=11.0.0 (from pyppeteer>=0.0.14->requests-html->yahoo_fin)\n",
      "  Using cached pyee-11.1.1-py3-none-any.whl.metadata (2.8 kB)\n",
      "Requirement already satisfied: tqdm<5.0.0,>=4.42.1 in /opt/anaconda3/lib/python3.12/site-packages (from pyppeteer>=0.0.14->requests-html->yahoo_fin) (4.66.5)\n",
      "Collecting urllib3<3,>=1.21.1 (from requests->yahoo_fin)\n",
      "  Using cached urllib3-1.26.20-py2.py3-none-any.whl.metadata (50 kB)\n",
      "Collecting websockets<11.0,>=10.0 (from pyppeteer>=0.0.14->requests-html->yahoo_fin)\n",
      "  Using cached websockets-10.4-cp312-cp312-macosx_11_0_arm64.whl\n",
      "Requirement already satisfied: six>=1.5 in /opt/anaconda3/lib/python3.12/site-packages (from python-dateutil>=2.8.2->pandas->yahoo_fin) (1.16.0)\n",
      "Requirement already satisfied: beautifulsoup4 in /opt/anaconda3/lib/python3.12/site-packages (from bs4->requests-html->yahoo_fin) (4.12.3)\n",
      "Requirement already satisfied: lxml>=2.1 in /opt/anaconda3/lib/python3.12/site-packages (from pyquery->requests-html->yahoo_fin) (5.2.1)\n",
      "Requirement already satisfied: cssselect>=1.2.0 in /opt/anaconda3/lib/python3.12/site-packages (from pyquery->requests-html->yahoo_fin) (1.2.0)\n",
      "Requirement already satisfied: zipp>=0.5 in /opt/anaconda3/lib/python3.12/site-packages (from importlib-metadata>=1.4->pyppeteer>=0.0.14->requests-html->yahoo_fin) (3.20.2)\n",
      "Requirement already satisfied: typing-extensions in /opt/anaconda3/lib/python3.12/site-packages (from pyee<12.0.0,>=11.0.0->pyppeteer>=0.0.14->requests-html->yahoo_fin) (4.12.2)\n",
      "Requirement already satisfied: soupsieve>1.2 in /opt/anaconda3/lib/python3.12/site-packages (from beautifulsoup4->bs4->requests-html->yahoo_fin) (2.5)\n",
      "Using cached yahoo_fin-0.8.9.1-py3-none-any.whl (10 kB)\n",
      "Using cached requests_html-0.10.0-py3-none-any.whl (13 kB)\n",
      "Using cached pyppeteer-2.0.0-py3-none-any.whl (82 kB)\n",
      "Using cached urllib3-1.26.20-py2.py3-none-any.whl (144 kB)\n",
      "Using cached bs4-0.0.2-py2.py3-none-any.whl (1.2 kB)\n",
      "Using cached fake_useragent-1.5.1-py3-none-any.whl (17 kB)\n",
      "Using cached parse-1.20.2-py2.py3-none-any.whl (20 kB)\n",
      "Using cached pyquery-2.0.1-py3-none-any.whl (22 kB)\n",
      "Using cached pyee-11.1.1-py3-none-any.whl (15 kB)\n",
      "Installing collected packages: parse, fake-useragent, websockets, urllib3, pyquery, pyee, pyppeteer, bs4, requests-html, yahoo_fin\n",
      "  Attempting uninstall: websockets\n",
      "    Found existing installation: websockets 13.1\n",
      "    Uninstalling websockets-13.1:\n",
      "      Successfully uninstalled websockets-13.1\n",
      "  Attempting uninstall: urllib3\n",
      "    Found existing installation: urllib3 2.2.3\n",
      "    Uninstalling urllib3-2.2.3:\n",
      "      Successfully uninstalled urllib3-2.2.3\n",
      "  Attempting uninstall: pyee\n",
      "    Found existing installation: pyee 12.0.0\n",
      "    Uninstalling pyee-12.0.0:\n",
      "      Successfully uninstalled pyee-12.0.0\n",
      "\u001b[31mERROR: pip's dependency resolver does not currently take into account all the packages that are installed. This behaviour is the source of the following dependency conflicts.\n",
      "playwright 1.47.0 requires pyee==12.0.0, but you have pyee 11.1.1 which is incompatible.\n",
      "llama-index-legacy 0.9.48.post3 requires tenacity<9.0.0,>=8.2.0, but you have tenacity 9.0.0 which is incompatible.\n",
      "types-requests 2.32.0.20241016 requires urllib3>=2, but you have urllib3 1.26.20 which is incompatible.\n",
      "llama-index-core 0.11.14 requires tenacity!=8.4.0,<9.0.0,>=8.2.0, but you have tenacity 9.0.0 which is incompatible.\n",
      "llama-index-readers-file 0.2.2 requires pypdf<5.0.0,>=4.0.1, but you have pypdf 5.1.0 which is incompatible.\n",
      "fastembed 0.3.6 requires mmh3<5.0,>=4.0, but you have mmh3 5.0.1 which is incompatible.\u001b[0m\u001b[31m\n",
      "\u001b[0mSuccessfully installed bs4-0.0.2 fake-useragent-1.5.1 parse-1.20.2 pyee-11.1.1 pyppeteer-2.0.0 pyquery-2.0.1 requests-html-0.10.0 urllib3-1.26.20 websockets-10.4 yahoo_fin-0.8.9.1\n"
     ]
    }
   ],
   "source": [
    "!pip install yahoo_fin"
   ]
  },
  {
   "cell_type": "code",
   "execution_count": 2,
   "id": "c2e7e688-f5e2-445f-8ca4-8c0d1d0d3e26",
   "metadata": {},
   "outputs": [
    {
     "name": "stdout",
     "output_type": "stream",
     "text": [
      "Warning - Certain functionality \n",
      "             requires requests_html, which is not installed.\n",
      "             \n",
      "             Install using: \n",
      "             pip install requests_html\n",
      "             \n",
      "             After installation, you may have to restart your Python session.\n",
      "             open   high    low  close  adjclose  volume ticker\n",
      "2024-11-01  4.307  4.365  4.223  4.361     4.361       0   ^TNX\n"
     ]
    }
   ],
   "source": [
    "from yahoo_fin.stock_info import get_data\n",
    "from datetime import date, timedelta, datetime\n",
    "\n",
    "today = datetime.now()\n",
    "yesterday = today - timedelta(days=3)\n",
    "previousday = today - timedelta(days=4)\n",
    "\n",
    "bond_info_today = get_data(\"^TNX\", start_date=yesterday, end_date=today, index_as_date=True, interval=\"1d\")\n",
    "print(bond_info_today)"
   ]
  },
  {
   "cell_type": "code",
   "execution_count": 3,
   "id": "22248b15-a033-45d0-998c-07fc798b6a72",
   "metadata": {},
   "outputs": [
    {
     "data": {
      "text/html": [
       "<div>\n",
       "<style scoped>\n",
       "    .dataframe tbody tr th:only-of-type {\n",
       "        vertical-align: middle;\n",
       "    }\n",
       "\n",
       "    .dataframe tbody tr th {\n",
       "        vertical-align: top;\n",
       "    }\n",
       "\n",
       "    .dataframe thead th {\n",
       "        text-align: right;\n",
       "    }\n",
       "</style>\n",
       "<table border=\"1\" class=\"dataframe\">\n",
       "  <thead>\n",
       "    <tr style=\"text-align: right;\">\n",
       "      <th></th>\n",
       "      <th>open</th>\n",
       "      <th>high</th>\n",
       "      <th>low</th>\n",
       "      <th>close</th>\n",
       "      <th>adjclose</th>\n",
       "      <th>volume</th>\n",
       "      <th>ticker</th>\n",
       "    </tr>\n",
       "  </thead>\n",
       "  <tbody>\n",
       "    <tr>\n",
       "      <th>2024-11-01</th>\n",
       "      <td>4.307</td>\n",
       "      <td>4.365</td>\n",
       "      <td>4.223</td>\n",
       "      <td>4.361</td>\n",
       "      <td>4.361</td>\n",
       "      <td>0</td>\n",
       "      <td>^TNX</td>\n",
       "    </tr>\n",
       "  </tbody>\n",
       "</table>\n",
       "</div>"
      ],
      "text/plain": [
       "             open   high    low  close  adjclose  volume ticker\n",
       "2024-11-01  4.307  4.365  4.223  4.361     4.361       0   ^TNX"
      ]
     },
     "execution_count": 3,
     "metadata": {},
     "output_type": "execute_result"
    }
   ],
   "source": [
    "bond_info_today"
   ]
  },
  {
   "cell_type": "code",
   "execution_count": 5,
   "id": "a9d4c0eb-7698-40e0-8f81-67429f3e0177",
   "metadata": {},
   "outputs": [
    {
     "data": {
      "text/html": [
       "<div>\n",
       "<style scoped>\n",
       "    .dataframe tbody tr th:only-of-type {\n",
       "        vertical-align: middle;\n",
       "    }\n",
       "\n",
       "    .dataframe tbody tr th {\n",
       "        vertical-align: top;\n",
       "    }\n",
       "\n",
       "    .dataframe thead th {\n",
       "        text-align: right;\n",
       "    }\n",
       "</style>\n",
       "<table border=\"1\" class=\"dataframe\">\n",
       "  <thead>\n",
       "    <tr style=\"text-align: right;\">\n",
       "      <th></th>\n",
       "      <th>open</th>\n",
       "      <th>high</th>\n",
       "      <th>low</th>\n",
       "      <th>close</th>\n",
       "      <th>adjclose</th>\n",
       "      <th>volume</th>\n",
       "      <th>ticker</th>\n",
       "    </tr>\n",
       "  </thead>\n",
       "  <tbody>\n",
       "    <tr>\n",
       "      <th>2024-11-01</th>\n",
       "      <td>4.487</td>\n",
       "      <td>4.568</td>\n",
       "      <td>4.433</td>\n",
       "      <td>4.558</td>\n",
       "      <td>4.558</td>\n",
       "      <td>0</td>\n",
       "      <td>^TYX</td>\n",
       "    </tr>\n",
       "  </tbody>\n",
       "</table>\n",
       "</div>"
      ],
      "text/plain": [
       "             open   high    low  close  adjclose  volume ticker\n",
       "2024-11-01  4.487  4.568  4.433  4.558     4.558       0   ^TYX"
      ]
     },
     "execution_count": 5,
     "metadata": {},
     "output_type": "execute_result"
    }
   ],
   "source": [
    "bond_info_today = get_data(\"^TYX\", start_date=yesterday, end_date=today, index_as_date=True, interval=\"1d\")\n",
    "bond_info_today"
   ]
  },
  {
   "cell_type": "code",
   "execution_count": 6,
   "id": "47cbbc1c-d58a-4545-936d-2555ae9a7cd8",
   "metadata": {},
   "outputs": [
    {
     "data": {
      "text/html": [
       "<div>\n",
       "<style scoped>\n",
       "    .dataframe tbody tr th:only-of-type {\n",
       "        vertical-align: middle;\n",
       "    }\n",
       "\n",
       "    .dataframe tbody tr th {\n",
       "        vertical-align: top;\n",
       "    }\n",
       "\n",
       "    .dataframe thead th {\n",
       "        text-align: right;\n",
       "    }\n",
       "</style>\n",
       "<table border=\"1\" class=\"dataframe\">\n",
       "  <thead>\n",
       "    <tr style=\"text-align: right;\">\n",
       "      <th></th>\n",
       "      <th>open</th>\n",
       "      <th>high</th>\n",
       "      <th>low</th>\n",
       "      <th>close</th>\n",
       "      <th>adjclose</th>\n",
       "      <th>volume</th>\n",
       "      <th>ticker</th>\n",
       "    </tr>\n",
       "  </thead>\n",
       "  <tbody>\n",
       "    <tr>\n",
       "      <th>2024-11-01</th>\n",
       "      <td>4.428</td>\n",
       "      <td>4.428</td>\n",
       "      <td>4.393</td>\n",
       "      <td>4.4</td>\n",
       "      <td>4.4</td>\n",
       "      <td>0</td>\n",
       "      <td>^IRX</td>\n",
       "    </tr>\n",
       "  </tbody>\n",
       "</table>\n",
       "</div>"
      ],
      "text/plain": [
       "             open   high    low  close  adjclose  volume ticker\n",
       "2024-11-01  4.428  4.428  4.393    4.4       4.4       0   ^IRX"
      ]
     },
     "execution_count": 6,
     "metadata": {},
     "output_type": "execute_result"
    }
   ],
   "source": [
    "bond_info_today = get_data(\"^IRX\", start_date=yesterday, end_date=today, index_as_date=True, interval=\"1d\")\n",
    "bond_info_today"
   ]
  },
  {
   "cell_type": "code",
   "execution_count": 11,
   "id": "93a474b8-d837-4854-a7a8-fb8fea3aaaf4",
   "metadata": {},
   "outputs": [
    {
     "data": {
      "text/html": [
       "<div>\n",
       "<style scoped>\n",
       "    .dataframe tbody tr th:only-of-type {\n",
       "        vertical-align: middle;\n",
       "    }\n",
       "\n",
       "    .dataframe tbody tr th {\n",
       "        vertical-align: top;\n",
       "    }\n",
       "\n",
       "    .dataframe thead th {\n",
       "        text-align: right;\n",
       "    }\n",
       "</style>\n",
       "<table border=\"1\" class=\"dataframe\">\n",
       "  <thead>\n",
       "    <tr style=\"text-align: right;\">\n",
       "      <th></th>\n",
       "      <th>open</th>\n",
       "      <th>high</th>\n",
       "      <th>low</th>\n",
       "      <th>close</th>\n",
       "      <th>adjclose</th>\n",
       "      <th>volume</th>\n",
       "      <th>ticker</th>\n",
       "    </tr>\n",
       "  </thead>\n",
       "  <tbody>\n",
       "    <tr>\n",
       "      <th>2024-11-01</th>\n",
       "      <td>4.186</td>\n",
       "      <td>4.218</td>\n",
       "      <td>4.069</td>\n",
       "      <td>4.209</td>\n",
       "      <td>4.209</td>\n",
       "      <td>0</td>\n",
       "      <td>^FVX</td>\n",
       "    </tr>\n",
       "  </tbody>\n",
       "</table>\n",
       "</div>"
      ],
      "text/plain": [
       "             open   high    low  close  adjclose  volume ticker\n",
       "2024-11-01  4.186  4.218  4.069  4.209     4.209       0   ^FVX"
      ]
     },
     "execution_count": 11,
     "metadata": {},
     "output_type": "execute_result"
    }
   ],
   "source": [
    "bond_info_today = get_data(\"^FVX\", start_date=yesterday, end_date=today, index_as_date=True, interval=\"1d\")\n",
    "bond_info_today"
   ]
  },
  {
   "cell_type": "code",
   "execution_count": null,
   "id": "f8295374-7c40-4f16-bb2b-342afdcbd45f",
   "metadata": {},
   "outputs": [],
   "source": []
  }
 ],
 "metadata": {
  "kernelspec": {
   "display_name": "Python 3 (ipykernel)",
   "language": "python",
   "name": "python3"
  },
  "language_info": {
   "codemirror_mode": {
    "name": "ipython",
    "version": 3
   },
   "file_extension": ".py",
   "mimetype": "text/x-python",
   "name": "python",
   "nbconvert_exporter": "python",
   "pygments_lexer": "ipython3",
   "version": "3.12.4"
  }
 },
 "nbformat": 4,
 "nbformat_minor": 5
}
